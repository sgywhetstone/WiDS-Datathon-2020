{
  "nbformat": 4,
  "nbformat_minor": 0,
  "metadata": {
    "colab": {
      "name": "WiDS 2020 ESL Exploration",
      "provenance": [],
      "collapsed_sections": [],
      "authorship_tag": "ABX9TyNB9lpHr3ij4+lP4Wuvm9Wk",
      "include_colab_link": true
    },
    "kernelspec": {
      "name": "python3",
      "display_name": "Python 3"
    },
    "accelerator": "GPU"
  },
  "cells": [
    {
      "cell_type": "markdown",
      "metadata": {
        "id": "view-in-github",
        "colab_type": "text"
      },
      "source": [
        "<a href=\"https://colab.research.google.com/github/sgywhetstone/WiDS-Datathon-2020/blob/master/WiDS_2020_ESL_Exploration.ipynb\" target=\"_parent\"><img src=\"https://colab.research.google.com/assets/colab-badge.svg\" alt=\"Open In Colab\"/></a>"
      ]
    },
    {
      "cell_type": "code",
      "metadata": {
        "id": "htpwqssOs4N3",
        "colab_type": "code",
        "colab": {}
      },
      "source": [
        "import numpy as np\n",
        "import pandas as pd"
      ],
      "execution_count": 0,
      "outputs": []
    },
    {
      "cell_type": "code",
      "metadata": {
        "id": "PkBLX-4ptDKa",
        "colab_type": "code",
        "colab": {
          "resources": {
            "http://localhost:8080/nbextensions/google.colab/files.js": {
              "data": "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",
              "ok": true,
              "headers": [
                [
                  "content-type",
                  "application/javascript"
                ]
              ],
              "status": 200,
              "status_text": ""
            }
          },
          "base_uri": "https://localhost:8080/",
          "height": 213
        },
        "outputId": "356e34de-743b-4ae7-b9b7-1710c00c02b4"
      },
      "source": [
        "from google.colab import files \n",
        "uploaded = files.upload() "
      ],
      "execution_count": 2,
      "outputs": [
        {
          "output_type": "display_data",
          "data": {
            "text/html": [
              "\n",
              "     <input type=\"file\" id=\"files-7a939b0a-588f-4c9a-985b-921140e634cf\" name=\"files[]\" multiple disabled />\n",
              "     <output id=\"result-7a939b0a-588f-4c9a-985b-921140e634cf\">\n",
              "      Upload widget is only available when the cell has been executed in the\n",
              "      current browser session. Please rerun this cell to enable.\n",
              "      </output>\n",
              "      <script src=\"/nbextensions/google.colab/files.js\"></script> "
            ],
            "text/plain": [
              "<IPython.core.display.HTML object>"
            ]
          },
          "metadata": {
            "tags": []
          }
        },
        {
          "output_type": "stream",
          "text": [
            "Saving samplesubmission.csv to samplesubmission.csv\n",
            "Saving solution_template.csv to solution_template.csv\n",
            "Saving training_v2.csv to training_v2.csv\n",
            "Saving unlabeled.csv to unlabeled.csv\n",
            "Saving WiDS Datathon 2020 Dictionary.csv to WiDS Datathon 2020 Dictionary.csv\n"
          ],
          "name": "stdout"
        }
      ]
    },
    {
      "cell_type": "code",
      "metadata": {
        "id": "u-XYtuUHtFBV",
        "colab_type": "code",
        "colab": {}
      },
      "source": [
        "#Read data into DataFrames\n",
        "train = pd.read_csv('training_v2.csv')\n",
        "test = pd.read_csv('unlabeled.csv')\n",
        "st = pd.read_csv('solution_template.csv')\n",
        "ss = pd.read_csv('samplesubmission.csv')\n",
        "dictionary = pd.read_csv('WiDS Datathon 2020 Dictionary.csv')"
      ],
      "execution_count": 0,
      "outputs": []
    },
    {
      "cell_type": "code",
      "metadata": {
        "id": "54bRNcDJyGnI",
        "colab_type": "code",
        "colab": {}
      },
      "source": [
        "# Dropping patient_id for now\n",
        "train = train.copy().drop('patient_id', axis = 1)\n",
        "test = test.copy().drop('patient_id', axis = 1)\n",
        "\n",
        "# Dropping readmission_status for now\n",
        "train = train.copy().drop('readmission_status', axis = 1)\n",
        "test = test.copy().drop('readmission_status', axis = 1)"
      ],
      "execution_count": 0,
      "outputs": []
    },
    {
      "cell_type": "code",
      "metadata": {
        "id": "EBE8C5OiOKkj",
        "colab_type": "code",
        "colab": {
          "base_uri": "https://localhost:8080/",
          "height": 52
        },
        "outputId": "498e9c05-a5cf-4e64-e2a9-47031e4c6a03"
      },
      "source": [
        "#Make Copies for first model\n",
        "naive_train = train.copy()\n",
        "naive_test = test.copy()\n",
        "\n",
        "#Delete columns with too many missing entries\n",
        "# Drop columns based on threshold limit\n",
        "threshold = len(naive_train) * 0.90\n",
        "naive_train_thresh=naive_train.dropna(axis=1, thresh=threshold)\n",
        "# View columns in the dataset\n",
        "naive_train_thresh.shape\n",
        "\n",
        "#Delete all rows with missing data\n",
        "print(\"Orginal shape before dropna()\" ,naive_train_thresh.shape)\n",
        "naive_drop = naive_train_thresh.dropna()\n",
        "print(\"Shape after dropna()\",naive_drop.shape)"
      ],
      "execution_count": 48,
      "outputs": [
        {
          "output_type": "stream",
          "text": [
            "Orginal shape before dropna() (91713, 81)\n",
            "Shape after dropna() (59617, 81)\n"
          ],
          "name": "stdout"
        }
      ]
    },
    {
      "cell_type": "code",
      "metadata": {
        "id": "1ELAZZ3rR7kS",
        "colab_type": "code",
        "colab": {
          "base_uri": "https://localhost:8080/",
          "height": 34
        },
        "outputId": "31d52f50-df75-4067-e3b2-7b6270efc15a"
      },
      "source": [
        "#Check for no NaNs\n",
        "naive_drop.isna().sum().sum()"
      ],
      "execution_count": 49,
      "outputs": [
        {
          "output_type": "execute_result",
          "data": {
            "text/plain": [
              "0"
            ]
          },
          "metadata": {
            "tags": []
          },
          "execution_count": 49
        }
      ]
    },
    {
      "cell_type": "code",
      "metadata": {
        "id": "ZG7MTt9LeosP",
        "colab_type": "code",
        "colab": {
          "base_uri": "https://localhost:8080/",
          "height": 34
        },
        "outputId": "1c57968c-294f-46bc-8624-9218ee9e5229"
      },
      "source": [
        "#Edit test data to correct number of columns\n",
        "naive_test = test[naive_drop.columns]\n",
        "\n",
        "\n",
        "\n",
        "#Concat test and training data\n",
        "dataset = pd.concat(objs=[naive_drop, naive_test], axis=0)\n",
        "\n",
        "naive_test.shape"
      ],
      "execution_count": 50,
      "outputs": [
        {
          "output_type": "execute_result",
          "data": {
            "text/plain": [
              "(39308, 81)"
            ]
          },
          "metadata": {
            "tags": []
          },
          "execution_count": 50
        }
      ]
    },
    {
      "cell_type": "code",
      "metadata": {
        "id": "vnMkGqDrfb3X",
        "colab_type": "code",
        "colab": {
          "base_uri": "https://localhost:8080/",
          "height": 34
        },
        "outputId": "5553f6ff-7b19-4595-8e17-0a0158c7c00c"
      },
      "source": [
        "naive_test.shape"
      ],
      "execution_count": 51,
      "outputs": [
        {
          "output_type": "execute_result",
          "data": {
            "text/plain": [
              "(39308, 81)"
            ]
          },
          "metadata": {
            "tags": []
          },
          "execution_count": 51
        }
      ]
    },
    {
      "cell_type": "code",
      "metadata": {
        "id": "qa1hguqPfhGX",
        "colab_type": "code",
        "colab": {}
      },
      "source": [
        "#Identify Categorical variables\n",
        "#For Train data\n",
        "l1 = []\n",
        "col = dataset.columns\n",
        "for i in col:\n",
        "    if dataset[i].nunique() <= 15:\n",
        "        l1.append(i)\n",
        "\n",
        "#Encode Categorical variables\n",
        "dataset[l1] = dataset[l1].astype('category')\n",
        "for col in l1:\n",
        "   dataset[col] = dataset[col].cat.codes"
      ],
      "execution_count": 0,
      "outputs": []
    },
    {
      "cell_type": "code",
      "metadata": {
        "id": "L-K8DCLFfs1G",
        "colab_type": "code",
        "colab": {}
      },
      "source": [
        "train_split = dataset.iloc[:59617]\n",
        "test_split = dataset.iloc[59617:]"
      ],
      "execution_count": 0,
      "outputs": []
    },
    {
      "cell_type": "code",
      "metadata": {
        "id": "YNTuG6Q4grWy",
        "colab_type": "code",
        "colab": {
          "base_uri": "https://localhost:8080/",
          "height": 34
        },
        "outputId": "0b2bca1d-1e86-45ee-8d4f-949f4773dd89"
      },
      "source": [
        "test_split.shape"
      ],
      "execution_count": 54,
      "outputs": [
        {
          "output_type": "execute_result",
          "data": {
            "text/plain": [
              "(39308, 81)"
            ]
          },
          "metadata": {
            "tags": []
          },
          "execution_count": 54
        }
      ]
    },
    {
      "cell_type": "code",
      "metadata": {
        "id": "cRhfr2CQUQI3",
        "colab_type": "code",
        "colab": {}
      },
      "source": [
        "#Split data into training and validation\n",
        "\n",
        "from sklearn.model_selection import train_test_split\n",
        "\n",
        "Train, Validation = train_test_split(train_split, test_size = 0.3, random_state = 888)\n",
        "\n",
        "x_train = Train.copy().drop('hospital_death', axis = 1)\n",
        "y_train = Train[['hospital_death']]\n",
        "x_val = Validation.copy().drop('hospital_death', axis = 1)\n",
        "y_val = Validation[['hospital_death']]\n",
        "\n",
        "x_test = test_split.copy().drop('hospital_death', axis = 1)\n",
        "y_test = test_split[['hospital_death']]"
      ],
      "execution_count": 0,
      "outputs": []
    },
    {
      "cell_type": "code",
      "metadata": {
        "id": "hAXF7eARS6aq",
        "colab_type": "code",
        "colab": {
          "base_uri": "https://localhost:8080/",
          "height": 34
        },
        "outputId": "50417e13-22c9-4c34-ec79-e49d229604a4"
      },
      "source": [
        "import keras\n",
        "keras.__version__"
      ],
      "execution_count": 56,
      "outputs": [
        {
          "output_type": "execute_result",
          "data": {
            "text/plain": [
              "'2.2.5'"
            ]
          },
          "metadata": {
            "tags": []
          },
          "execution_count": 56
        }
      ]
    },
    {
      "cell_type": "code",
      "metadata": {
        "id": "NFyzP6_tTbcP",
        "colab_type": "code",
        "colab": {}
      },
      "source": [
        "from keras import models\n",
        "from keras import layers\n",
        "\n",
        "model = models.Sequential()\n",
        "model.add(layers.Dense(16, activation='relu', input_shape=(80,)))\n",
        "model.add(layers.Dense(16, activation='relu'))\n",
        "model.add(layers.Dense(1, activation='sigmoid'))\n",
        "\n",
        "model.compile(optimizer='rmsprop',\n",
        "              loss='binary_crossentropy',\n",
        "              metrics=['accuracy'])"
      ],
      "execution_count": 0,
      "outputs": []
    },
    {
      "cell_type": "code",
      "metadata": {
        "id": "7QFEZg7pUEKp",
        "colab_type": "code",
        "colab": {
          "base_uri": "https://localhost:8080/",
          "height": 1000
        },
        "outputId": "73b7148f-054f-4d2c-f856-31ddb1634ba6"
      },
      "source": [
        "history = model.fit(x_train,\n",
        "                    y_train,\n",
        "                   epochs=100,\n",
        "                   batch_size=512,\n",
        "                   validation_data=(x_val, y_val))"
      ],
      "execution_count": 58,
      "outputs": [
        {
          "output_type": "stream",
          "text": [
            "Train on 41731 samples, validate on 17886 samples\n",
            "Epoch 1/100\n",
            "41731/41731 [==============================] - 1s 16us/step - loss: 3.3011 - acc: 0.7926 - val_loss: 1.3772 - val_acc: 0.9145\n",
            "Epoch 2/100\n",
            "41731/41731 [==============================] - 0s 10us/step - loss: 1.3795 - acc: 0.9144 - val_loss: 1.3752 - val_acc: 0.9147\n",
            "Epoch 3/100\n",
            "41731/41731 [==============================] - 0s 10us/step - loss: 1.3789 - acc: 0.9145 - val_loss: 1.3752 - val_acc: 0.9147\n",
            "Epoch 4/100\n",
            "41731/41731 [==============================] - 0s 9us/step - loss: 1.3789 - acc: 0.9145 - val_loss: 1.3752 - val_acc: 0.9147\n",
            "Epoch 5/100\n",
            "41731/41731 [==============================] - 0s 9us/step - loss: 1.3789 - acc: 0.9145 - val_loss: 1.3752 - val_acc: 0.9147\n",
            "Epoch 6/100\n",
            "41731/41731 [==============================] - 0s 10us/step - loss: 1.3789 - acc: 0.9145 - val_loss: 1.3752 - val_acc: 0.9147\n",
            "Epoch 7/100\n",
            "41731/41731 [==============================] - 0s 9us/step - loss: 1.3789 - acc: 0.9145 - val_loss: 1.3752 - val_acc: 0.9147\n",
            "Epoch 8/100\n",
            "41731/41731 [==============================] - 0s 10us/step - loss: 1.3789 - acc: 0.9145 - val_loss: 1.3752 - val_acc: 0.9147\n",
            "Epoch 9/100\n",
            "41731/41731 [==============================] - 0s 10us/step - loss: 1.3789 - acc: 0.9145 - val_loss: 1.3752 - val_acc: 0.9147\n",
            "Epoch 10/100\n",
            "41731/41731 [==============================] - 0s 9us/step - loss: 1.3789 - acc: 0.9145 - val_loss: 1.3752 - val_acc: 0.9147\n",
            "Epoch 11/100\n",
            "41731/41731 [==============================] - 0s 9us/step - loss: 1.3789 - acc: 0.9145 - val_loss: 1.3752 - val_acc: 0.9147\n",
            "Epoch 12/100\n",
            "41731/41731 [==============================] - 0s 9us/step - loss: 1.3789 - acc: 0.9145 - val_loss: 1.3752 - val_acc: 0.9147\n",
            "Epoch 13/100\n",
            "41731/41731 [==============================] - 0s 9us/step - loss: 1.3789 - acc: 0.9145 - val_loss: 1.3752 - val_acc: 0.9147\n",
            "Epoch 14/100\n",
            "41731/41731 [==============================] - 0s 10us/step - loss: 1.3789 - acc: 0.9145 - val_loss: 1.3752 - val_acc: 0.9147\n",
            "Epoch 15/100\n",
            "41731/41731 [==============================] - 0s 9us/step - loss: 1.3789 - acc: 0.9145 - val_loss: 1.3752 - val_acc: 0.9147\n",
            "Epoch 16/100\n",
            "41731/41731 [==============================] - 0s 9us/step - loss: 1.3789 - acc: 0.9145 - val_loss: 1.3752 - val_acc: 0.9147\n",
            "Epoch 17/100\n",
            "41731/41731 [==============================] - 0s 9us/step - loss: 1.3789 - acc: 0.9145 - val_loss: 1.3752 - val_acc: 0.9147\n",
            "Epoch 18/100\n",
            "41731/41731 [==============================] - 0s 10us/step - loss: 1.3789 - acc: 0.9145 - val_loss: 1.3752 - val_acc: 0.9147\n",
            "Epoch 19/100\n",
            "41731/41731 [==============================] - 0s 10us/step - loss: 1.3789 - acc: 0.9145 - val_loss: 1.3752 - val_acc: 0.9147\n",
            "Epoch 20/100\n",
            "41731/41731 [==============================] - 0s 10us/step - loss: 1.3789 - acc: 0.9145 - val_loss: 1.3752 - val_acc: 0.9147\n",
            "Epoch 21/100\n",
            "41731/41731 [==============================] - 0s 9us/step - loss: 1.3789 - acc: 0.9145 - val_loss: 1.3752 - val_acc: 0.9147\n",
            "Epoch 22/100\n",
            "41731/41731 [==============================] - 0s 10us/step - loss: 1.3789 - acc: 0.9145 - val_loss: 1.3752 - val_acc: 0.9147\n",
            "Epoch 23/100\n",
            "41731/41731 [==============================] - 0s 10us/step - loss: 1.3789 - acc: 0.9145 - val_loss: 1.3752 - val_acc: 0.9147\n",
            "Epoch 24/100\n",
            "41731/41731 [==============================] - 0s 9us/step - loss: 1.3789 - acc: 0.9145 - val_loss: 1.3752 - val_acc: 0.9147\n",
            "Epoch 25/100\n",
            "41731/41731 [==============================] - 0s 9us/step - loss: 1.3789 - acc: 0.9145 - val_loss: 1.3752 - val_acc: 0.9147\n",
            "Epoch 26/100\n",
            "41731/41731 [==============================] - 0s 9us/step - loss: 1.3789 - acc: 0.9145 - val_loss: 1.3752 - val_acc: 0.9147\n",
            "Epoch 27/100\n",
            "41731/41731 [==============================] - 0s 9us/step - loss: 1.3789 - acc: 0.9145 - val_loss: 1.3752 - val_acc: 0.9147\n",
            "Epoch 28/100\n",
            "41731/41731 [==============================] - 0s 9us/step - loss: 1.3789 - acc: 0.9145 - val_loss: 1.3752 - val_acc: 0.9147\n",
            "Epoch 29/100\n",
            "41731/41731 [==============================] - 0s 9us/step - loss: 1.3789 - acc: 0.9145 - val_loss: 1.3752 - val_acc: 0.9147\n",
            "Epoch 30/100\n",
            "41731/41731 [==============================] - 0s 9us/step - loss: 1.3789 - acc: 0.9145 - val_loss: 1.3752 - val_acc: 0.9147\n",
            "Epoch 31/100\n",
            "41731/41731 [==============================] - 0s 10us/step - loss: 1.3789 - acc: 0.9145 - val_loss: 1.3752 - val_acc: 0.9147\n",
            "Epoch 32/100\n",
            "41731/41731 [==============================] - 0s 10us/step - loss: 1.3789 - acc: 0.9145 - val_loss: 1.3752 - val_acc: 0.9147\n",
            "Epoch 33/100\n",
            "41731/41731 [==============================] - 0s 9us/step - loss: 1.3789 - acc: 0.9145 - val_loss: 1.3752 - val_acc: 0.9147\n",
            "Epoch 34/100\n",
            "41731/41731 [==============================] - 0s 10us/step - loss: 1.3789 - acc: 0.9145 - val_loss: 1.3752 - val_acc: 0.9147\n",
            "Epoch 35/100\n",
            "41731/41731 [==============================] - 0s 9us/step - loss: 1.3789 - acc: 0.9145 - val_loss: 1.3752 - val_acc: 0.9147\n",
            "Epoch 36/100\n",
            "41731/41731 [==============================] - 0s 10us/step - loss: 1.3789 - acc: 0.9145 - val_loss: 1.3752 - val_acc: 0.9147\n",
            "Epoch 37/100\n",
            "41731/41731 [==============================] - 0s 10us/step - loss: 1.3789 - acc: 0.9145 - val_loss: 1.3752 - val_acc: 0.9147\n",
            "Epoch 38/100\n",
            "41731/41731 [==============================] - 0s 10us/step - loss: 1.3789 - acc: 0.9145 - val_loss: 1.3752 - val_acc: 0.9147\n",
            "Epoch 39/100\n",
            "41731/41731 [==============================] - 0s 9us/step - loss: 1.3789 - acc: 0.9145 - val_loss: 1.3752 - val_acc: 0.9147\n",
            "Epoch 40/100\n",
            "41731/41731 [==============================] - 0s 10us/step - loss: 1.3789 - acc: 0.9145 - val_loss: 1.3752 - val_acc: 0.9147\n",
            "Epoch 41/100\n",
            "41731/41731 [==============================] - 0s 10us/step - loss: 1.3789 - acc: 0.9145 - val_loss: 1.3752 - val_acc: 0.9147\n",
            "Epoch 42/100\n",
            "41731/41731 [==============================] - 0s 10us/step - loss: 1.3789 - acc: 0.9145 - val_loss: 1.3752 - val_acc: 0.9147\n",
            "Epoch 43/100\n",
            "41731/41731 [==============================] - 0s 10us/step - loss: 1.3789 - acc: 0.9145 - val_loss: 1.3752 - val_acc: 0.9147\n",
            "Epoch 44/100\n",
            "41731/41731 [==============================] - 0s 10us/step - loss: 1.3789 - acc: 0.9145 - val_loss: 1.3752 - val_acc: 0.9147\n",
            "Epoch 45/100\n",
            "41731/41731 [==============================] - 0s 10us/step - loss: 1.3789 - acc: 0.9145 - val_loss: 1.3752 - val_acc: 0.9147\n",
            "Epoch 46/100\n",
            "41731/41731 [==============================] - 0s 10us/step - loss: 1.3789 - acc: 0.9145 - val_loss: 1.3752 - val_acc: 0.9147\n",
            "Epoch 47/100\n",
            "41731/41731 [==============================] - 0s 10us/step - loss: 1.3789 - acc: 0.9145 - val_loss: 1.3752 - val_acc: 0.9147\n",
            "Epoch 48/100\n",
            "41731/41731 [==============================] - 0s 9us/step - loss: 1.3789 - acc: 0.9145 - val_loss: 1.3752 - val_acc: 0.9147\n",
            "Epoch 49/100\n",
            "41731/41731 [==============================] - 0s 10us/step - loss: 1.3789 - acc: 0.9145 - val_loss: 1.3752 - val_acc: 0.9147\n",
            "Epoch 50/100\n",
            "41731/41731 [==============================] - 0s 10us/step - loss: 1.3789 - acc: 0.9145 - val_loss: 1.3752 - val_acc: 0.9147\n",
            "Epoch 51/100\n",
            "41731/41731 [==============================] - 0s 10us/step - loss: 1.3789 - acc: 0.9145 - val_loss: 1.3752 - val_acc: 0.9147\n",
            "Epoch 52/100\n",
            "41731/41731 [==============================] - 0s 10us/step - loss: 1.3789 - acc: 0.9145 - val_loss: 1.3752 - val_acc: 0.9147\n",
            "Epoch 53/100\n",
            "41731/41731 [==============================] - 0s 10us/step - loss: 1.3789 - acc: 0.9145 - val_loss: 1.3752 - val_acc: 0.9147\n",
            "Epoch 54/100\n",
            "41731/41731 [==============================] - 0s 10us/step - loss: 1.3789 - acc: 0.9145 - val_loss: 1.3752 - val_acc: 0.9147\n",
            "Epoch 55/100\n",
            "41731/41731 [==============================] - 0s 10us/step - loss: 1.3789 - acc: 0.9145 - val_loss: 1.3752 - val_acc: 0.9147\n",
            "Epoch 56/100\n",
            "41731/41731 [==============================] - 0s 9us/step - loss: 1.3789 - acc: 0.9145 - val_loss: 1.3752 - val_acc: 0.9147\n",
            "Epoch 57/100\n",
            "41731/41731 [==============================] - 0s 10us/step - loss: 1.3789 - acc: 0.9145 - val_loss: 1.3752 - val_acc: 0.9147\n",
            "Epoch 58/100\n",
            "41731/41731 [==============================] - 0s 10us/step - loss: 1.3789 - acc: 0.9145 - val_loss: 1.3752 - val_acc: 0.9147\n",
            "Epoch 59/100\n",
            "41731/41731 [==============================] - 0s 9us/step - loss: 1.3789 - acc: 0.9145 - val_loss: 1.3752 - val_acc: 0.9147\n",
            "Epoch 60/100\n",
            "41731/41731 [==============================] - 0s 10us/step - loss: 1.3789 - acc: 0.9145 - val_loss: 1.3752 - val_acc: 0.9147\n",
            "Epoch 61/100\n",
            "41731/41731 [==============================] - 0s 9us/step - loss: 1.3789 - acc: 0.9145 - val_loss: 1.3752 - val_acc: 0.9147\n",
            "Epoch 62/100\n",
            "41731/41731 [==============================] - 0s 9us/step - loss: 1.3789 - acc: 0.9145 - val_loss: 1.3752 - val_acc: 0.9147\n",
            "Epoch 63/100\n",
            "41731/41731 [==============================] - 0s 9us/step - loss: 1.3789 - acc: 0.9145 - val_loss: 1.3752 - val_acc: 0.9147\n",
            "Epoch 64/100\n",
            "41731/41731 [==============================] - 0s 9us/step - loss: 1.3789 - acc: 0.9145 - val_loss: 1.3752 - val_acc: 0.9147\n",
            "Epoch 65/100\n",
            "41731/41731 [==============================] - 0s 10us/step - loss: 1.3789 - acc: 0.9145 - val_loss: 1.3752 - val_acc: 0.9147\n",
            "Epoch 66/100\n",
            "41731/41731 [==============================] - 0s 9us/step - loss: 1.3789 - acc: 0.9145 - val_loss: 1.3752 - val_acc: 0.9147\n",
            "Epoch 67/100\n",
            "41731/41731 [==============================] - 0s 10us/step - loss: 1.3789 - acc: 0.9145 - val_loss: 1.3752 - val_acc: 0.9147\n",
            "Epoch 68/100\n",
            "41731/41731 [==============================] - 0s 9us/step - loss: 1.3789 - acc: 0.9145 - val_loss: 1.3752 - val_acc: 0.9147\n",
            "Epoch 69/100\n",
            "41731/41731 [==============================] - 0s 10us/step - loss: 1.3789 - acc: 0.9145 - val_loss: 1.3752 - val_acc: 0.9147\n",
            "Epoch 70/100\n",
            "41731/41731 [==============================] - 0s 10us/step - loss: 1.3789 - acc: 0.9145 - val_loss: 1.3752 - val_acc: 0.9147\n",
            "Epoch 71/100\n",
            "41731/41731 [==============================] - 0s 10us/step - loss: 1.3789 - acc: 0.9145 - val_loss: 1.3752 - val_acc: 0.9147\n",
            "Epoch 72/100\n",
            "41731/41731 [==============================] - 0s 10us/step - loss: 1.3789 - acc: 0.9145 - val_loss: 1.3752 - val_acc: 0.9147\n",
            "Epoch 73/100\n",
            "41731/41731 [==============================] - 0s 10us/step - loss: 1.3789 - acc: 0.9145 - val_loss: 1.3752 - val_acc: 0.9147\n",
            "Epoch 74/100\n",
            "41731/41731 [==============================] - 0s 10us/step - loss: 1.3789 - acc: 0.9145 - val_loss: 1.3752 - val_acc: 0.9147\n",
            "Epoch 75/100\n",
            "41731/41731 [==============================] - 0s 10us/step - loss: 1.3789 - acc: 0.9145 - val_loss: 1.3752 - val_acc: 0.9147\n",
            "Epoch 76/100\n",
            "41731/41731 [==============================] - 0s 9us/step - loss: 1.3789 - acc: 0.9145 - val_loss: 1.3752 - val_acc: 0.9147\n",
            "Epoch 77/100\n",
            "41731/41731 [==============================] - 0s 9us/step - loss: 1.3789 - acc: 0.9145 - val_loss: 1.3752 - val_acc: 0.9147\n",
            "Epoch 78/100\n",
            "41731/41731 [==============================] - 0s 10us/step - loss: 1.3789 - acc: 0.9145 - val_loss: 1.3752 - val_acc: 0.9147\n",
            "Epoch 79/100\n",
            "41731/41731 [==============================] - 0s 9us/step - loss: 1.3789 - acc: 0.9145 - val_loss: 1.3752 - val_acc: 0.9147\n",
            "Epoch 80/100\n",
            "41731/41731 [==============================] - 0s 9us/step - loss: 1.3789 - acc: 0.9145 - val_loss: 1.3752 - val_acc: 0.9147\n",
            "Epoch 81/100\n",
            "41731/41731 [==============================] - 0s 9us/step - loss: 1.3789 - acc: 0.9145 - val_loss: 1.3752 - val_acc: 0.9147\n",
            "Epoch 82/100\n",
            "41731/41731 [==============================] - 0s 10us/step - loss: 1.3789 - acc: 0.9145 - val_loss: 1.3752 - val_acc: 0.9147\n",
            "Epoch 83/100\n",
            "41731/41731 [==============================] - 0s 9us/step - loss: 1.3789 - acc: 0.9145 - val_loss: 1.3752 - val_acc: 0.9147\n",
            "Epoch 84/100\n",
            "41731/41731 [==============================] - 0s 9us/step - loss: 1.3789 - acc: 0.9145 - val_loss: 1.3752 - val_acc: 0.9147\n",
            "Epoch 85/100\n",
            "41731/41731 [==============================] - 0s 10us/step - loss: 1.3789 - acc: 0.9145 - val_loss: 1.3752 - val_acc: 0.9147\n",
            "Epoch 86/100\n",
            "41731/41731 [==============================] - 0s 9us/step - loss: 1.3789 - acc: 0.9145 - val_loss: 1.3752 - val_acc: 0.9147\n",
            "Epoch 87/100\n",
            "41731/41731 [==============================] - 0s 9us/step - loss: 1.3789 - acc: 0.9145 - val_loss: 1.3752 - val_acc: 0.9147\n",
            "Epoch 88/100\n",
            "41731/41731 [==============================] - 0s 9us/step - loss: 1.3789 - acc: 0.9145 - val_loss: 1.3752 - val_acc: 0.9147\n",
            "Epoch 89/100\n",
            "41731/41731 [==============================] - 0s 9us/step - loss: 1.3789 - acc: 0.9145 - val_loss: 1.3752 - val_acc: 0.9147\n",
            "Epoch 90/100\n",
            "41731/41731 [==============================] - 0s 9us/step - loss: 1.3789 - acc: 0.9145 - val_loss: 1.3752 - val_acc: 0.9147\n",
            "Epoch 91/100\n",
            "41731/41731 [==============================] - 0s 10us/step - loss: 1.3789 - acc: 0.9145 - val_loss: 1.3752 - val_acc: 0.9147\n",
            "Epoch 92/100\n",
            "41731/41731 [==============================] - 0s 9us/step - loss: 1.3789 - acc: 0.9145 - val_loss: 1.3752 - val_acc: 0.9147\n",
            "Epoch 93/100\n",
            "41731/41731 [==============================] - 0s 10us/step - loss: 1.3789 - acc: 0.9145 - val_loss: 1.3752 - val_acc: 0.9147\n",
            "Epoch 94/100\n",
            "41731/41731 [==============================] - 0s 10us/step - loss: 1.3789 - acc: 0.9145 - val_loss: 1.3752 - val_acc: 0.9147\n",
            "Epoch 95/100\n",
            "41731/41731 [==============================] - 0s 9us/step - loss: 1.3789 - acc: 0.9145 - val_loss: 1.3752 - val_acc: 0.9147\n",
            "Epoch 96/100\n",
            "41731/41731 [==============================] - 0s 10us/step - loss: 1.3789 - acc: 0.9145 - val_loss: 1.3752 - val_acc: 0.9147\n",
            "Epoch 97/100\n",
            "41731/41731 [==============================] - 0s 9us/step - loss: 1.3789 - acc: 0.9145 - val_loss: 1.3752 - val_acc: 0.9147\n",
            "Epoch 98/100\n",
            "41731/41731 [==============================] - 0s 9us/step - loss: 1.3789 - acc: 0.9145 - val_loss: 1.3752 - val_acc: 0.9147\n",
            "Epoch 99/100\n",
            "41731/41731 [==============================] - 0s 10us/step - loss: 1.3789 - acc: 0.9145 - val_loss: 1.3752 - val_acc: 0.9147\n",
            "Epoch 100/100\n",
            "41731/41731 [==============================] - 0s 10us/step - loss: 1.3789 - acc: 0.9145 - val_loss: 1.3752 - val_acc: 0.9147\n"
          ],
          "name": "stdout"
        }
      ]
    },
    {
      "cell_type": "code",
      "metadata": {
        "id": "T61jyYoNh0Mh",
        "colab_type": "code",
        "colab": {}
      },
      "source": [
        "output = model.predict(x_test)"
      ],
      "execution_count": 0,
      "outputs": []
    },
    {
      "cell_type": "code",
      "metadata": {
        "id": "bO-SXW_-h-HB",
        "colab_type": "code",
        "colab": {
          "base_uri": "https://localhost:8080/",
          "height": 140
        },
        "outputId": "37a16ff0-4740-4bc2-f8b2-bce74d87e6e6"
      },
      "source": [
        "output"
      ],
      "execution_count": 67,
      "outputs": [
        {
          "output_type": "execute_result",
          "data": {
            "text/plain": [
              "array([[0.       ],\n",
              "       [0.4792382],\n",
              "       [0.4792382],\n",
              "       ...,\n",
              "       [0.       ],\n",
              "       [0.       ],\n",
              "       [0.4792382]], dtype=float32)"
            ]
          },
          "metadata": {
            "tags": []
          },
          "execution_count": 67
        }
      ]
    },
    {
      "cell_type": "code",
      "metadata": {
        "id": "zryfNfMEiQ3t",
        "colab_type": "code",
        "colab": {
          "base_uri": "https://localhost:8080/",
          "height": 328
        },
        "outputId": "4ed5e882-c84d-4e24-e33a-8d3f549cb52d"
      },
      "source": [
        "test[\"hospital_death\"] = output\n",
        "test[[\"encounter_id\",\"hospital_death\"]].to_csv(\"submission_1.csv\",index=False)\n",
        "\n",
        "test.head()"
      ],
      "execution_count": 74,
      "outputs": [
        {
          "output_type": "execute_result",
          "data": {
            "text/html": [
              "<div>\n",
              "<style scoped>\n",
              "    .dataframe tbody tr th:only-of-type {\n",
              "        vertical-align: middle;\n",
              "    }\n",
              "\n",
              "    .dataframe tbody tr th {\n",
              "        vertical-align: top;\n",
              "    }\n",
              "\n",
              "    .dataframe thead th {\n",
              "        text-align: right;\n",
              "    }\n",
              "</style>\n",
              "<table border=\"1\" class=\"dataframe\">\n",
              "  <thead>\n",
              "    <tr style=\"text-align: right;\">\n",
              "      <th></th>\n",
              "      <th>encounter_id</th>\n",
              "      <th>hospital_id</th>\n",
              "      <th>hospital_death</th>\n",
              "      <th>age</th>\n",
              "      <th>bmi</th>\n",
              "      <th>elective_surgery</th>\n",
              "      <th>ethnicity</th>\n",
              "      <th>gender</th>\n",
              "      <th>height</th>\n",
              "      <th>hospital_admit_source</th>\n",
              "      <th>icu_admit_source</th>\n",
              "      <th>icu_id</th>\n",
              "      <th>icu_stay_type</th>\n",
              "      <th>icu_type</th>\n",
              "      <th>pre_icu_los_days</th>\n",
              "      <th>weight</th>\n",
              "      <th>albumin_apache</th>\n",
              "      <th>apache_2_diagnosis</th>\n",
              "      <th>apache_3j_diagnosis</th>\n",
              "      <th>apache_post_operative</th>\n",
              "      <th>arf_apache</th>\n",
              "      <th>bilirubin_apache</th>\n",
              "      <th>bun_apache</th>\n",
              "      <th>creatinine_apache</th>\n",
              "      <th>fio2_apache</th>\n",
              "      <th>gcs_eyes_apache</th>\n",
              "      <th>gcs_motor_apache</th>\n",
              "      <th>gcs_unable_apache</th>\n",
              "      <th>gcs_verbal_apache</th>\n",
              "      <th>glucose_apache</th>\n",
              "      <th>heart_rate_apache</th>\n",
              "      <th>hematocrit_apache</th>\n",
              "      <th>intubated_apache</th>\n",
              "      <th>map_apache</th>\n",
              "      <th>paco2_apache</th>\n",
              "      <th>paco2_for_ph_apache</th>\n",
              "      <th>pao2_apache</th>\n",
              "      <th>ph_apache</th>\n",
              "      <th>resprate_apache</th>\n",
              "      <th>sodium_apache</th>\n",
              "      <th>...</th>\n",
              "      <th>h1_inr_max</th>\n",
              "      <th>h1_inr_min</th>\n",
              "      <th>h1_lactate_max</th>\n",
              "      <th>h1_lactate_min</th>\n",
              "      <th>h1_platelets_max</th>\n",
              "      <th>h1_platelets_min</th>\n",
              "      <th>h1_potassium_max</th>\n",
              "      <th>h1_potassium_min</th>\n",
              "      <th>h1_sodium_max</th>\n",
              "      <th>h1_sodium_min</th>\n",
              "      <th>h1_wbc_max</th>\n",
              "      <th>h1_wbc_min</th>\n",
              "      <th>d1_arterial_pco2_max</th>\n",
              "      <th>d1_arterial_pco2_min</th>\n",
              "      <th>d1_arterial_ph_max</th>\n",
              "      <th>d1_arterial_ph_min</th>\n",
              "      <th>d1_arterial_po2_max</th>\n",
              "      <th>d1_arterial_po2_min</th>\n",
              "      <th>d1_pao2fio2ratio_max</th>\n",
              "      <th>d1_pao2fio2ratio_min</th>\n",
              "      <th>h1_arterial_pco2_max</th>\n",
              "      <th>h1_arterial_pco2_min</th>\n",
              "      <th>h1_arterial_ph_max</th>\n",
              "      <th>h1_arterial_ph_min</th>\n",
              "      <th>h1_arterial_po2_max</th>\n",
              "      <th>h1_arterial_po2_min</th>\n",
              "      <th>h1_pao2fio2ratio_max</th>\n",
              "      <th>h1_pao2fio2ratio_min</th>\n",
              "      <th>apache_4a_hospital_death_prob</th>\n",
              "      <th>apache_4a_icu_death_prob</th>\n",
              "      <th>aids</th>\n",
              "      <th>cirrhosis</th>\n",
              "      <th>diabetes_mellitus</th>\n",
              "      <th>hepatic_failure</th>\n",
              "      <th>immunosuppression</th>\n",
              "      <th>leukemia</th>\n",
              "      <th>lymphoma</th>\n",
              "      <th>solid_tumor_with_metastasis</th>\n",
              "      <th>apache_3j_bodysystem</th>\n",
              "      <th>apache_2_bodysystem</th>\n",
              "    </tr>\n",
              "  </thead>\n",
              "  <tbody>\n",
              "    <tr>\n",
              "      <th>0</th>\n",
              "      <td>2</td>\n",
              "      <td>7</td>\n",
              "      <td>0.000000</td>\n",
              "      <td>56.0</td>\n",
              "      <td>21.102439</td>\n",
              "      <td>0</td>\n",
              "      <td>Caucasian</td>\n",
              "      <td>M</td>\n",
              "      <td>180.3</td>\n",
              "      <td>Emergency Department</td>\n",
              "      <td>Accident &amp; Emergency</td>\n",
              "      <td>1105</td>\n",
              "      <td>admit</td>\n",
              "      <td>Neuro ICU</td>\n",
              "      <td>0.104167</td>\n",
              "      <td>68.6</td>\n",
              "      <td>3.7</td>\n",
              "      <td>301.0</td>\n",
              "      <td>405.01</td>\n",
              "      <td>0</td>\n",
              "      <td>0.0</td>\n",
              "      <td>NaN</td>\n",
              "      <td>19.0</td>\n",
              "      <td>0.67</td>\n",
              "      <td>NaN</td>\n",
              "      <td>2.0</td>\n",
              "      <td>5.0</td>\n",
              "      <td>0.0</td>\n",
              "      <td>1.0</td>\n",
              "      <td>276.0</td>\n",
              "      <td>105.0</td>\n",
              "      <td>42.0</td>\n",
              "      <td>0.0</td>\n",
              "      <td>57.0</td>\n",
              "      <td>NaN</td>\n",
              "      <td>NaN</td>\n",
              "      <td>NaN</td>\n",
              "      <td>NaN</td>\n",
              "      <td>5.0</td>\n",
              "      <td>134.0</td>\n",
              "      <td>...</td>\n",
              "      <td>NaN</td>\n",
              "      <td>NaN</td>\n",
              "      <td>NaN</td>\n",
              "      <td>NaN</td>\n",
              "      <td>NaN</td>\n",
              "      <td>NaN</td>\n",
              "      <td>NaN</td>\n",
              "      <td>NaN</td>\n",
              "      <td>NaN</td>\n",
              "      <td>NaN</td>\n",
              "      <td>NaN</td>\n",
              "      <td>NaN</td>\n",
              "      <td>NaN</td>\n",
              "      <td>NaN</td>\n",
              "      <td>NaN</td>\n",
              "      <td>NaN</td>\n",
              "      <td>NaN</td>\n",
              "      <td>NaN</td>\n",
              "      <td>NaN</td>\n",
              "      <td>NaN</td>\n",
              "      <td>NaN</td>\n",
              "      <td>NaN</td>\n",
              "      <td>NaN</td>\n",
              "      <td>NaN</td>\n",
              "      <td>NaN</td>\n",
              "      <td>NaN</td>\n",
              "      <td>NaN</td>\n",
              "      <td>NaN</td>\n",
              "      <td>0.13</td>\n",
              "      <td>0.08</td>\n",
              "      <td>0.0</td>\n",
              "      <td>0.0</td>\n",
              "      <td>0.0</td>\n",
              "      <td>0.0</td>\n",
              "      <td>0.0</td>\n",
              "      <td>0.0</td>\n",
              "      <td>0.0</td>\n",
              "      <td>0.0</td>\n",
              "      <td>Neurological</td>\n",
              "      <td>Neurologic</td>\n",
              "    </tr>\n",
              "    <tr>\n",
              "      <th>1</th>\n",
              "      <td>5</td>\n",
              "      <td>178</td>\n",
              "      <td>0.479238</td>\n",
              "      <td>NaN</td>\n",
              "      <td>19.500595</td>\n",
              "      <td>1</td>\n",
              "      <td>Caucasian</td>\n",
              "      <td>F</td>\n",
              "      <td>145.0</td>\n",
              "      <td>Operating Room</td>\n",
              "      <td>Operating Room / Recovery</td>\n",
              "      <td>1043</td>\n",
              "      <td>admit</td>\n",
              "      <td>Med-Surg ICU</td>\n",
              "      <td>0.230556</td>\n",
              "      <td>41.0</td>\n",
              "      <td>NaN</td>\n",
              "      <td>217.0</td>\n",
              "      <td>1502.02</td>\n",
              "      <td>1</td>\n",
              "      <td>0.0</td>\n",
              "      <td>NaN</td>\n",
              "      <td>NaN</td>\n",
              "      <td>NaN</td>\n",
              "      <td>NaN</td>\n",
              "      <td>4.0</td>\n",
              "      <td>6.0</td>\n",
              "      <td>0.0</td>\n",
              "      <td>4.0</td>\n",
              "      <td>NaN</td>\n",
              "      <td>60.0</td>\n",
              "      <td>NaN</td>\n",
              "      <td>0.0</td>\n",
              "      <td>53.0</td>\n",
              "      <td>NaN</td>\n",
              "      <td>NaN</td>\n",
              "      <td>NaN</td>\n",
              "      <td>NaN</td>\n",
              "      <td>37.0</td>\n",
              "      <td>NaN</td>\n",
              "      <td>...</td>\n",
              "      <td>NaN</td>\n",
              "      <td>NaN</td>\n",
              "      <td>NaN</td>\n",
              "      <td>NaN</td>\n",
              "      <td>NaN</td>\n",
              "      <td>NaN</td>\n",
              "      <td>NaN</td>\n",
              "      <td>NaN</td>\n",
              "      <td>NaN</td>\n",
              "      <td>NaN</td>\n",
              "      <td>NaN</td>\n",
              "      <td>NaN</td>\n",
              "      <td>NaN</td>\n",
              "      <td>NaN</td>\n",
              "      <td>NaN</td>\n",
              "      <td>NaN</td>\n",
              "      <td>NaN</td>\n",
              "      <td>NaN</td>\n",
              "      <td>NaN</td>\n",
              "      <td>NaN</td>\n",
              "      <td>NaN</td>\n",
              "      <td>NaN</td>\n",
              "      <td>NaN</td>\n",
              "      <td>NaN</td>\n",
              "      <td>NaN</td>\n",
              "      <td>NaN</td>\n",
              "      <td>NaN</td>\n",
              "      <td>NaN</td>\n",
              "      <td>0.09</td>\n",
              "      <td>0.03</td>\n",
              "      <td>0.0</td>\n",
              "      <td>0.0</td>\n",
              "      <td>0.0</td>\n",
              "      <td>0.0</td>\n",
              "      <td>0.0</td>\n",
              "      <td>0.0</td>\n",
              "      <td>0.0</td>\n",
              "      <td>0.0</td>\n",
              "      <td>Neurological</td>\n",
              "      <td>Neurologic</td>\n",
              "    </tr>\n",
              "    <tr>\n",
              "      <th>2</th>\n",
              "      <td>7</td>\n",
              "      <td>86</td>\n",
              "      <td>0.479238</td>\n",
              "      <td>66.0</td>\n",
              "      <td>32.518596</td>\n",
              "      <td>1</td>\n",
              "      <td>African American</td>\n",
              "      <td>M</td>\n",
              "      <td>170.2</td>\n",
              "      <td>Operating Room</td>\n",
              "      <td>Operating Room / Recovery</td>\n",
              "      <td>1035</td>\n",
              "      <td>admit</td>\n",
              "      <td>CCU-CTICU</td>\n",
              "      <td>0.140972</td>\n",
              "      <td>94.2</td>\n",
              "      <td>NaN</td>\n",
              "      <td>302.0</td>\n",
              "      <td>1208.06</td>\n",
              "      <td>1</td>\n",
              "      <td>0.0</td>\n",
              "      <td>NaN</td>\n",
              "      <td>22.0</td>\n",
              "      <td>1.84</td>\n",
              "      <td>NaN</td>\n",
              "      <td>2.0</td>\n",
              "      <td>5.0</td>\n",
              "      <td>0.0</td>\n",
              "      <td>1.0</td>\n",
              "      <td>81.0</td>\n",
              "      <td>124.0</td>\n",
              "      <td>39.2</td>\n",
              "      <td>0.0</td>\n",
              "      <td>115.0</td>\n",
              "      <td>NaN</td>\n",
              "      <td>NaN</td>\n",
              "      <td>NaN</td>\n",
              "      <td>NaN</td>\n",
              "      <td>31.0</td>\n",
              "      <td>130.0</td>\n",
              "      <td>...</td>\n",
              "      <td>NaN</td>\n",
              "      <td>NaN</td>\n",
              "      <td>NaN</td>\n",
              "      <td>NaN</td>\n",
              "      <td>NaN</td>\n",
              "      <td>NaN</td>\n",
              "      <td>NaN</td>\n",
              "      <td>NaN</td>\n",
              "      <td>NaN</td>\n",
              "      <td>NaN</td>\n",
              "      <td>NaN</td>\n",
              "      <td>NaN</td>\n",
              "      <td>NaN</td>\n",
              "      <td>NaN</td>\n",
              "      <td>NaN</td>\n",
              "      <td>NaN</td>\n",
              "      <td>NaN</td>\n",
              "      <td>NaN</td>\n",
              "      <td>NaN</td>\n",
              "      <td>NaN</td>\n",
              "      <td>NaN</td>\n",
              "      <td>NaN</td>\n",
              "      <td>NaN</td>\n",
              "      <td>NaN</td>\n",
              "      <td>NaN</td>\n",
              "      <td>NaN</td>\n",
              "      <td>NaN</td>\n",
              "      <td>NaN</td>\n",
              "      <td>0.03</td>\n",
              "      <td>0.02</td>\n",
              "      <td>0.0</td>\n",
              "      <td>0.0</td>\n",
              "      <td>0.0</td>\n",
              "      <td>0.0</td>\n",
              "      <td>0.0</td>\n",
              "      <td>0.0</td>\n",
              "      <td>0.0</td>\n",
              "      <td>0.0</td>\n",
              "      <td>Cardiovascular</td>\n",
              "      <td>Cardiovascular</td>\n",
              "    </tr>\n",
              "    <tr>\n",
              "      <th>3</th>\n",
              "      <td>8</td>\n",
              "      <td>163</td>\n",
              "      <td>0.000000</td>\n",
              "      <td>64.0</td>\n",
              "      <td>20.798520</td>\n",
              "      <td>0</td>\n",
              "      <td>Caucasian</td>\n",
              "      <td>M</td>\n",
              "      <td>182.8</td>\n",
              "      <td>Operating Room</td>\n",
              "      <td>Operating Room / Recovery</td>\n",
              "      <td>1078</td>\n",
              "      <td>admit</td>\n",
              "      <td>Med-Surg ICU</td>\n",
              "      <td>0.002083</td>\n",
              "      <td>69.5</td>\n",
              "      <td>1.9</td>\n",
              "      <td>303.0</td>\n",
              "      <td>211.03</td>\n",
              "      <td>0</td>\n",
              "      <td>0.0</td>\n",
              "      <td>0.8</td>\n",
              "      <td>24.0</td>\n",
              "      <td>0.75</td>\n",
              "      <td>0.7</td>\n",
              "      <td>4.0</td>\n",
              "      <td>6.0</td>\n",
              "      <td>0.0</td>\n",
              "      <td>1.0</td>\n",
              "      <td>122.0</td>\n",
              "      <td>111.0</td>\n",
              "      <td>32.0</td>\n",
              "      <td>1.0</td>\n",
              "      <td>48.0</td>\n",
              "      <td>36.0</td>\n",
              "      <td>36.0</td>\n",
              "      <td>142.0</td>\n",
              "      <td>7.35</td>\n",
              "      <td>30.0</td>\n",
              "      <td>133.0</td>\n",
              "      <td>...</td>\n",
              "      <td>1.4</td>\n",
              "      <td>1.4</td>\n",
              "      <td>NaN</td>\n",
              "      <td>NaN</td>\n",
              "      <td>248.0</td>\n",
              "      <td>248.0</td>\n",
              "      <td>4.0</td>\n",
              "      <td>4.0</td>\n",
              "      <td>133.0</td>\n",
              "      <td>133.0</td>\n",
              "      <td>9.7</td>\n",
              "      <td>9.7</td>\n",
              "      <td>36.0</td>\n",
              "      <td>36.0</td>\n",
              "      <td>7.37</td>\n",
              "      <td>7.35</td>\n",
              "      <td>142.0</td>\n",
              "      <td>57.0</td>\n",
              "      <td>202.857143</td>\n",
              "      <td>114.0</td>\n",
              "      <td>NaN</td>\n",
              "      <td>NaN</td>\n",
              "      <td>NaN</td>\n",
              "      <td>NaN</td>\n",
              "      <td>NaN</td>\n",
              "      <td>NaN</td>\n",
              "      <td>NaN</td>\n",
              "      <td>NaN</td>\n",
              "      <td>0.19</td>\n",
              "      <td>0.17</td>\n",
              "      <td>0.0</td>\n",
              "      <td>0.0</td>\n",
              "      <td>0.0</td>\n",
              "      <td>0.0</td>\n",
              "      <td>1.0</td>\n",
              "      <td>0.0</td>\n",
              "      <td>0.0</td>\n",
              "      <td>0.0</td>\n",
              "      <td>Respiratory</td>\n",
              "      <td>Respiratory</td>\n",
              "    </tr>\n",
              "    <tr>\n",
              "      <th>4</th>\n",
              "      <td>10</td>\n",
              "      <td>59</td>\n",
              "      <td>0.479238</td>\n",
              "      <td>56.0</td>\n",
              "      <td>NaN</td>\n",
              "      <td>0</td>\n",
              "      <td>Caucasian</td>\n",
              "      <td>M</td>\n",
              "      <td>NaN</td>\n",
              "      <td>Emergency Department</td>\n",
              "      <td>Accident &amp; Emergency</td>\n",
              "      <td>1012</td>\n",
              "      <td>admit</td>\n",
              "      <td>Neuro ICU</td>\n",
              "      <td>0.004861</td>\n",
              "      <td>66.4</td>\n",
              "      <td>NaN</td>\n",
              "      <td>217.0</td>\n",
              "      <td>1501.01</td>\n",
              "      <td>1</td>\n",
              "      <td>0.0</td>\n",
              "      <td>NaN</td>\n",
              "      <td>11.0</td>\n",
              "      <td>0.52</td>\n",
              "      <td>NaN</td>\n",
              "      <td>1.0</td>\n",
              "      <td>4.0</td>\n",
              "      <td>0.0</td>\n",
              "      <td>1.0</td>\n",
              "      <td>192.0</td>\n",
              "      <td>94.0</td>\n",
              "      <td>32.8</td>\n",
              "      <td>0.0</td>\n",
              "      <td>41.0</td>\n",
              "      <td>NaN</td>\n",
              "      <td>NaN</td>\n",
              "      <td>NaN</td>\n",
              "      <td>NaN</td>\n",
              "      <td>5.0</td>\n",
              "      <td>134.0</td>\n",
              "      <td>...</td>\n",
              "      <td>1.0</td>\n",
              "      <td>1.0</td>\n",
              "      <td>NaN</td>\n",
              "      <td>NaN</td>\n",
              "      <td>NaN</td>\n",
              "      <td>NaN</td>\n",
              "      <td>NaN</td>\n",
              "      <td>NaN</td>\n",
              "      <td>NaN</td>\n",
              "      <td>NaN</td>\n",
              "      <td>NaN</td>\n",
              "      <td>NaN</td>\n",
              "      <td>NaN</td>\n",
              "      <td>NaN</td>\n",
              "      <td>NaN</td>\n",
              "      <td>NaN</td>\n",
              "      <td>NaN</td>\n",
              "      <td>NaN</td>\n",
              "      <td>NaN</td>\n",
              "      <td>NaN</td>\n",
              "      <td>NaN</td>\n",
              "      <td>NaN</td>\n",
              "      <td>NaN</td>\n",
              "      <td>NaN</td>\n",
              "      <td>NaN</td>\n",
              "      <td>NaN</td>\n",
              "      <td>NaN</td>\n",
              "      <td>NaN</td>\n",
              "      <td>0.50</td>\n",
              "      <td>0.42</td>\n",
              "      <td>0.0</td>\n",
              "      <td>0.0</td>\n",
              "      <td>0.0</td>\n",
              "      <td>0.0</td>\n",
              "      <td>0.0</td>\n",
              "      <td>0.0</td>\n",
              "      <td>0.0</td>\n",
              "      <td>0.0</td>\n",
              "      <td>Neurological</td>\n",
              "      <td>Neurologic</td>\n",
              "    </tr>\n",
              "  </tbody>\n",
              "</table>\n",
              "<p>5 rows × 184 columns</p>\n",
              "</div>"
            ],
            "text/plain": [
              "   encounter_id  hospital_id  ...  apache_3j_bodysystem  apache_2_bodysystem\n",
              "0             2            7  ...          Neurological           Neurologic\n",
              "1             5          178  ...          Neurological           Neurologic\n",
              "2             7           86  ...        Cardiovascular       Cardiovascular\n",
              "3             8          163  ...           Respiratory          Respiratory\n",
              "4            10           59  ...          Neurological           Neurologic\n",
              "\n",
              "[5 rows x 184 columns]"
            ]
          },
          "metadata": {
            "tags": []
          },
          "execution_count": 74
        }
      ]
    },
    {
      "cell_type": "code",
      "metadata": {
        "id": "Z6xvsvDikJKZ",
        "colab_type": "code",
        "colab": {
          "base_uri": "https://localhost:8080/",
          "height": 195
        },
        "outputId": "003b2b11-46d9-414c-f211-a6e0633da458"
      },
      "source": [
        "test[[\"encounter_id\",\"hospital_death\"]].head()"
      ],
      "execution_count": 77,
      "outputs": [
        {
          "output_type": "execute_result",
          "data": {
            "text/html": [
              "<div>\n",
              "<style scoped>\n",
              "    .dataframe tbody tr th:only-of-type {\n",
              "        vertical-align: middle;\n",
              "    }\n",
              "\n",
              "    .dataframe tbody tr th {\n",
              "        vertical-align: top;\n",
              "    }\n",
              "\n",
              "    .dataframe thead th {\n",
              "        text-align: right;\n",
              "    }\n",
              "</style>\n",
              "<table border=\"1\" class=\"dataframe\">\n",
              "  <thead>\n",
              "    <tr style=\"text-align: right;\">\n",
              "      <th></th>\n",
              "      <th>encounter_id</th>\n",
              "      <th>hospital_death</th>\n",
              "    </tr>\n",
              "  </thead>\n",
              "  <tbody>\n",
              "    <tr>\n",
              "      <th>0</th>\n",
              "      <td>2</td>\n",
              "      <td>0.000000</td>\n",
              "    </tr>\n",
              "    <tr>\n",
              "      <th>1</th>\n",
              "      <td>5</td>\n",
              "      <td>0.479238</td>\n",
              "    </tr>\n",
              "    <tr>\n",
              "      <th>2</th>\n",
              "      <td>7</td>\n",
              "      <td>0.479238</td>\n",
              "    </tr>\n",
              "    <tr>\n",
              "      <th>3</th>\n",
              "      <td>8</td>\n",
              "      <td>0.000000</td>\n",
              "    </tr>\n",
              "    <tr>\n",
              "      <th>4</th>\n",
              "      <td>10</td>\n",
              "      <td>0.479238</td>\n",
              "    </tr>\n",
              "  </tbody>\n",
              "</table>\n",
              "</div>"
            ],
            "text/plain": [
              "   encounter_id  hospital_death\n",
              "0             2        0.000000\n",
              "1             5        0.479238\n",
              "2             7        0.479238\n",
              "3             8        0.000000\n",
              "4            10        0.479238"
            ]
          },
          "metadata": {
            "tags": []
          },
          "execution_count": 77
        }
      ]
    }
  ]
}